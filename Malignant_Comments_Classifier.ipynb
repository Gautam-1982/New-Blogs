{
  "nbformat": 4,
  "nbformat_minor": 0,
  "metadata": {
    "colab": {
      "name": "Malignant_Comments_Classifier.ipynb",
      "provenance": [],
      "collapsed_sections": [],
      "authorship_tag": "ABX9TyNXW7G4yKm9NBTWMrF2w8DE",
      "include_colab_link": true
    },
    "kernelspec": {
      "name": "python3",
      "display_name": "Python 3"
    },
    "language_info": {
      "name": "python"
    }
  },
  "cells": [
    {
      "cell_type": "markdown",
      "metadata": {
        "id": "view-in-github",
        "colab_type": "text"
      },
      "source": [
        "<a href=\"https://colab.research.google.com/github/Gautam-1982/New-Blogs/blob/main/Malignant_Comments_Classifier.ipynb\" target=\"_parent\"><img src=\"https://colab.research.google.com/assets/colab-badge.svg\" alt=\"Open In Colab\"/></a>"
      ]
    },
    {
      "cell_type": "code",
      "metadata": {
        "id": "ytkXI_ptGF0f"
      },
      "source": [
        "from google.colab import  drive"
      ],
      "execution_count": null,
      "outputs": []
    },
    {
      "cell_type": "code",
      "metadata": {
        "id": "iq-iIBBWHmJM",
        "colab": {
          "base_uri": "https://localhost:8080/"
        },
        "outputId": "b02c9d11-79d4-43c6-b9dc-1d72c28fb967"
      },
      "source": [
        "drive.mount('/content/drive')"
      ],
      "execution_count": null,
      "outputs": [
        {
          "output_type": "stream",
          "text": [
            "Drive already mounted at /content/drive; to attempt to forcibly remount, call drive.mount(\"/content/drive\", force_remount=True).\n"
          ],
          "name": "stdout"
        }
      ]
    },
    {
      "cell_type": "code",
      "metadata": {
        "id": "2PwIGDLcHvYK"
      },
      "source": [
        "import pandas as pd\n",
        "import numpy as np\n",
        "import matplotlib.pyplot as plt\n",
        "%matplotlib inline"
      ],
      "execution_count": null,
      "outputs": []
    },
    {
      "cell_type": "code",
      "metadata": {
        "id": "sE5v6Qg0H0RO"
      },
      "source": [
        "#Read the csv file into dataframe df\n",
        "data = pd.read_csv('/content/drive/MyDrive/gautam bhushan/train.csv')"
      ],
      "execution_count": null,
      "outputs": []
    },
    {
      "cell_type": "code",
      "metadata": {
        "id": "47p5yO-pH2pM",
        "colab": {
          "base_uri": "https://localhost:8080/",
          "height": 417
        },
        "outputId": "ca97c8f9-a4f6-4df5-a264-f349a1d2f69d"
      },
      "source": [
        "data"
      ],
      "execution_count": null,
      "outputs": [
        {
          "output_type": "execute_result",
          "data": {
            "text/html": [
              "<div>\n",
              "<style scoped>\n",
              "    .dataframe tbody tr th:only-of-type {\n",
              "        vertical-align: middle;\n",
              "    }\n",
              "\n",
              "    .dataframe tbody tr th {\n",
              "        vertical-align: top;\n",
              "    }\n",
              "\n",
              "    .dataframe thead th {\n",
              "        text-align: right;\n",
              "    }\n",
              "</style>\n",
              "<table border=\"1\" class=\"dataframe\">\n",
              "  <thead>\n",
              "    <tr style=\"text-align: right;\">\n",
              "      <th></th>\n",
              "      <th>id</th>\n",
              "      <th>comment_text</th>\n",
              "      <th>malignant</th>\n",
              "      <th>highly_malignant</th>\n",
              "      <th>rude</th>\n",
              "      <th>threat</th>\n",
              "      <th>abuse</th>\n",
              "      <th>loathe</th>\n",
              "    </tr>\n",
              "  </thead>\n",
              "  <tbody>\n",
              "    <tr>\n",
              "      <th>0</th>\n",
              "      <td>0000997932d777bf</td>\n",
              "      <td>Explanation\\nWhy the edits made under my usern...</td>\n",
              "      <td>0</td>\n",
              "      <td>0</td>\n",
              "      <td>0</td>\n",
              "      <td>0</td>\n",
              "      <td>0</td>\n",
              "      <td>0</td>\n",
              "    </tr>\n",
              "    <tr>\n",
              "      <th>1</th>\n",
              "      <td>000103f0d9cfb60f</td>\n",
              "      <td>D'aww! He matches this background colour I'm s...</td>\n",
              "      <td>0</td>\n",
              "      <td>0</td>\n",
              "      <td>0</td>\n",
              "      <td>0</td>\n",
              "      <td>0</td>\n",
              "      <td>0</td>\n",
              "    </tr>\n",
              "    <tr>\n",
              "      <th>2</th>\n",
              "      <td>000113f07ec002fd</td>\n",
              "      <td>Hey man, I'm really not trying to edit war. It...</td>\n",
              "      <td>0</td>\n",
              "      <td>0</td>\n",
              "      <td>0</td>\n",
              "      <td>0</td>\n",
              "      <td>0</td>\n",
              "      <td>0</td>\n",
              "    </tr>\n",
              "    <tr>\n",
              "      <th>3</th>\n",
              "      <td>0001b41b1c6bb37e</td>\n",
              "      <td>\"\\nMore\\nI can't make any real suggestions on ...</td>\n",
              "      <td>0</td>\n",
              "      <td>0</td>\n",
              "      <td>0</td>\n",
              "      <td>0</td>\n",
              "      <td>0</td>\n",
              "      <td>0</td>\n",
              "    </tr>\n",
              "    <tr>\n",
              "      <th>4</th>\n",
              "      <td>0001d958c54c6e35</td>\n",
              "      <td>You, sir, are my hero. Any chance you remember...</td>\n",
              "      <td>0</td>\n",
              "      <td>0</td>\n",
              "      <td>0</td>\n",
              "      <td>0</td>\n",
              "      <td>0</td>\n",
              "      <td>0</td>\n",
              "    </tr>\n",
              "    <tr>\n",
              "      <th>...</th>\n",
              "      <td>...</td>\n",
              "      <td>...</td>\n",
              "      <td>...</td>\n",
              "      <td>...</td>\n",
              "      <td>...</td>\n",
              "      <td>...</td>\n",
              "      <td>...</td>\n",
              "      <td>...</td>\n",
              "    </tr>\n",
              "    <tr>\n",
              "      <th>159566</th>\n",
              "      <td>ffe987279560d7ff</td>\n",
              "      <td>\":::::And for the second time of asking, when ...</td>\n",
              "      <td>0</td>\n",
              "      <td>0</td>\n",
              "      <td>0</td>\n",
              "      <td>0</td>\n",
              "      <td>0</td>\n",
              "      <td>0</td>\n",
              "    </tr>\n",
              "    <tr>\n",
              "      <th>159567</th>\n",
              "      <td>ffea4adeee384e90</td>\n",
              "      <td>You should be ashamed of yourself \\n\\nThat is ...</td>\n",
              "      <td>0</td>\n",
              "      <td>0</td>\n",
              "      <td>0</td>\n",
              "      <td>0</td>\n",
              "      <td>0</td>\n",
              "      <td>0</td>\n",
              "    </tr>\n",
              "    <tr>\n",
              "      <th>159568</th>\n",
              "      <td>ffee36eab5c267c9</td>\n",
              "      <td>Spitzer \\n\\nUmm, theres no actual article for ...</td>\n",
              "      <td>0</td>\n",
              "      <td>0</td>\n",
              "      <td>0</td>\n",
              "      <td>0</td>\n",
              "      <td>0</td>\n",
              "      <td>0</td>\n",
              "    </tr>\n",
              "    <tr>\n",
              "      <th>159569</th>\n",
              "      <td>fff125370e4aaaf3</td>\n",
              "      <td>And it looks like it was actually you who put ...</td>\n",
              "      <td>0</td>\n",
              "      <td>0</td>\n",
              "      <td>0</td>\n",
              "      <td>0</td>\n",
              "      <td>0</td>\n",
              "      <td>0</td>\n",
              "    </tr>\n",
              "    <tr>\n",
              "      <th>159570</th>\n",
              "      <td>fff46fc426af1f9a</td>\n",
              "      <td>\"\\nAnd ... I really don't think you understand...</td>\n",
              "      <td>0</td>\n",
              "      <td>0</td>\n",
              "      <td>0</td>\n",
              "      <td>0</td>\n",
              "      <td>0</td>\n",
              "      <td>0</td>\n",
              "    </tr>\n",
              "  </tbody>\n",
              "</table>\n",
              "<p>159571 rows × 8 columns</p>\n",
              "</div>"
            ],
            "text/plain": [
              "                      id  ... loathe\n",
              "0       0000997932d777bf  ...      0\n",
              "1       000103f0d9cfb60f  ...      0\n",
              "2       000113f07ec002fd  ...      0\n",
              "3       0001b41b1c6bb37e  ...      0\n",
              "4       0001d958c54c6e35  ...      0\n",
              "...                  ...  ...    ...\n",
              "159566  ffe987279560d7ff  ...      0\n",
              "159567  ffea4adeee384e90  ...      0\n",
              "159568  ffee36eab5c267c9  ...      0\n",
              "159569  fff125370e4aaaf3  ...      0\n",
              "159570  fff46fc426af1f9a  ...      0\n",
              "\n",
              "[159571 rows x 8 columns]"
            ]
          },
          "metadata": {
            "tags": []
          },
          "execution_count": 79
        }
      ]
    },
    {
      "cell_type": "code",
      "metadata": {
        "id": "OUs7XZQ6H5m7",
        "colab": {
          "base_uri": "https://localhost:8080/"
        },
        "outputId": "4af1be1b-7438-4673-da39-5942e0f2882b"
      },
      "source": [
        "#checking shape\n",
        "data.shape"
      ],
      "execution_count": null,
      "outputs": [
        {
          "output_type": "execute_result",
          "data": {
            "text/plain": [
              "(159571, 8)"
            ]
          },
          "metadata": {
            "tags": []
          },
          "execution_count": 80
        }
      ]
    },
    {
      "cell_type": "code",
      "metadata": {
        "id": "SpT4keTdH96f",
        "colab": {
          "base_uri": "https://localhost:8080/"
        },
        "outputId": "c2cb148a-8c1b-42b9-ecbc-10a603e7c4c0"
      },
      "source": [
        "#List the fields in our dataframe\n",
        "print(data.dtypes)"
      ],
      "execution_count": null,
      "outputs": [
        {
          "output_type": "stream",
          "text": [
            "id                  object\n",
            "comment_text        object\n",
            "malignant            int64\n",
            "highly_malignant     int64\n",
            "rude                 int64\n",
            "threat               int64\n",
            "abuse                int64\n",
            "loathe               int64\n",
            "dtype: object\n"
          ],
          "name": "stdout"
        }
      ]
    },
    {
      "cell_type": "code",
      "metadata": {
        "id": "cUTo6VhqIBXh"
      },
      "source": [
        "# below line causes shuffling of indices, to avoid using train_test_split later\n",
        "data = data.reindex(np.random.permutation(data.index))"
      ],
      "execution_count": null,
      "outputs": []
    },
    {
      "cell_type": "markdown",
      "metadata": {
        "id": "p6e5BR0dIHvW"
      },
      "source": [
        "## Separate the comment field data and outcome labels"
      ]
    },
    {
      "cell_type": "code",
      "metadata": {
        "id": "UlFVI2zpII1g",
        "colab": {
          "base_uri": "https://localhost:8080/"
        },
        "outputId": "856171a4-625b-431f-a78e-d49cbcbfe12e"
      },
      "source": [
        "comment = data['comment_text']\n",
        "print(comment.head())\n",
        "comment = comment.to_numpy()"
      ],
      "execution_count": null,
      "outputs": [
        {
          "output_type": "stream",
          "text": [
            "24716     Microsoft Flight Simulator has been rated well...\n",
            "154266    Merged Brad Hunstable==\\nI completed the merge...\n",
            "142860    \"\\n\\nProblem\\n\\nThis guy: http://en.wikipedia....\n",
            "14592     Your blanking of comments on the Juan Cole pag...\n",
            "129049    James Hill (Inventor of Teeline Shorthand)\\nHe...\n",
            "Name: comment_text, dtype: object\n"
          ],
          "name": "stdout"
        }
      ]
    },
    {
      "cell_type": "code",
      "metadata": {
        "id": "KfX8VD0XIQ38",
        "colab": {
          "base_uri": "https://localhost:8080/"
        },
        "outputId": "6ce5d7e5-171b-4c32-fc61-2dc30228d88d"
      },
      "source": [
        "label = data[['malignant', 'highly_malignant', 'rude', 'threat', 'abuse', 'loathe']]\n",
        "print(label.head())\n",
        "label = label.to_numpy()"
      ],
      "execution_count": null,
      "outputs": [
        {
          "output_type": "stream",
          "text": [
            "        malignant  highly_malignant  rude  threat  abuse  loathe\n",
            "24716           0                 0     0       0      0       0\n",
            "154266          0                 0     0       0      0       0\n",
            "142860          0                 0     0       0      0       0\n",
            "14592           0                 0     0       0      0       0\n",
            "129049          0                 0     0       0      0       0\n"
          ],
          "name": "stdout"
        }
      ]
    },
    {
      "cell_type": "markdown",
      "metadata": {
        "id": "ljjqe68oIc6z"
      },
      "source": [
        "Let us find out the frequency of occurence of multilabelled data\n",
        "\n",
        "ct1 counts samples having atleast one label\n",
        "\n",
        "ct2 counts samples having 2 or more than 2 labels"
      ]
    },
    {
      "cell_type": "code",
      "metadata": {
        "id": "Y-ZQcm5nIdii",
        "colab": {
          "base_uri": "https://localhost:8080/"
        },
        "outputId": "c9b8c7ff-db63-4ede-cdbd-ab513c1e5298"
      },
      "source": [
        "ct1,ct2 = 0,0\n",
        "for i in range(label.shape[0]):\n",
        "    ct = np.count_nonzero(label[i])\n",
        "    if ct :\n",
        "        ct1 = ct1+1\n",
        "    if ct>1 :\n",
        "        ct2 = ct2+1\n",
        "print(ct1)\n",
        "print(ct2)"
      ],
      "execution_count": null,
      "outputs": [
        {
          "output_type": "stream",
          "text": [
            "16225\n",
            "9865\n"
          ],
          "name": "stdout"
        }
      ]
    },
    {
      "cell_type": "markdown",
      "metadata": {
        "id": "SQKHWWxwIlRV"
      },
      "source": [
        "## Data Visualisations"
      ]
    },
    {
      "cell_type": "markdown",
      "metadata": {
        "id": "X5FCaWxzIsrc"
      },
      "source": [
        "Let us analyse the no. of comments having lengths varying from 0 to 1200"
      ]
    },
    {
      "cell_type": "code",
      "metadata": {
        "id": "ANoKwr58ItPd",
        "colab": {
          "base_uri": "https://localhost:8080/",
          "height": 300
        },
        "outputId": "cb199c70-6c3f-4294-c8ce-16038c3cf950"
      },
      "source": [
        "x = [len(comment[i]) for i in range(comment.shape[0])]\n",
        "\n",
        "print('average length of comment: {:.3f}'.format(sum(x)/len(x)) )\n",
        "bins = [1,200,400,600,800,1000,1200]\n",
        "plt.hist(x, bins=bins)\n",
        "plt.xlabel('Length of comments')\n",
        "plt.ylabel('Number of comments')       \n",
        "plt.axis([0, 1200, 0, 90000])\n",
        "plt.grid(True)\n",
        "plt.show()"
      ],
      "execution_count": null,
      "outputs": [
        {
          "output_type": "stream",
          "text": [
            "average length of comment: 394.139\n"
          ],
          "name": "stdout"
        },
        {
          "output_type": "display_data",
          "data": {
            "image/png": "[encoded data removed]",
            "text/plain": [
              "<Figure size 432x288 with 1 Axes>"
            ]
          },
          "metadata": {
            "tags": [],
            "needs_background": "light"
          }
        }
      ]
    },
    {
      "cell_type": "markdown",
      "metadata": {
        "id": "ZRGeNku1I6bb"
      },
      "source": [
        "Number of comments classified as malignant, highly_malignant,....etc depending on their lengths"
      ]
    },
    {
      "cell_type": "code",
      "metadata": {
        "id": "ZLQzKOjoI7EL",
        "colab": {
          "base_uri": "https://localhost:8080/",
          "height": 283
        },
        "outputId": "c28bfa49-8dcc-4a8e-bc52-aafde37effba"
      },
      "source": [
        "y = np.zeros(label.shape)\n",
        "for ix in range(comment.shape[0]):\n",
        "    l = len(comment[ix])\n",
        "    if label[ix][0] :\n",
        "        y[ix][0] = l\n",
        "    if label[ix][1] :\n",
        "        y[ix][1] = l\n",
        "    if label[ix][2] :\n",
        "        y[ix][2] = l\n",
        "    if label[ix][3] :\n",
        "        y[ix][3] = l\n",
        "    if label[ix][4] :\n",
        "        y[ix][4] = l\n",
        "    if label[ix][5] :\n",
        "        y[ix][5] = l\n",
        "\n",
        "labelsplt = ['malignant', 'highly_malignant', 'rude', 'threat', 'abuse', 'loathe']\n",
        "color = ['red','green','blue','yellow','orange','chartreuse']        \n",
        "plt.hist(y,bins = bins,label = labelsplt,color = color)\n",
        "plt.axis([0, 1200, 0, 8000])\n",
        "plt.xlabel('Length of comments')\n",
        "plt.ylabel('Number of comments') \n",
        "plt.legend()\n",
        "plt.grid(True)\n",
        "plt.show()"
      ],
      "execution_count": null,
      "outputs": [
        {
          "output_type": "display_data",
          "data": {
            "image/png": "[encoded data removed]",
            "text/plain": [
              "<Figure size 432x288 with 1 Axes>"
            ]
          },
          "metadata": {
            "tags": [],
            "needs_background": "light"
          }
        }
      ]
    },
    {
      "cell_type": "markdown",
      "metadata": {
        "id": "LslRUKjAJF-K"
      },
      "source": [
        "## Remove excessive length comments"
      ]
    },
    {
      "cell_type": "markdown",
      "metadata": {
        "id": "vQAnU3gjJKlV"
      },
      "source": [
        "Some very large length comments can be seen, in our dataset. These pose serious problems like adding excessively more words to the training dataset, causing training time to increase and accuracy to decrease! Hence, a threshold of 400 characters will be created and only comments which have length smaller than 400 will be used further."
      ]
    },
    {
      "cell_type": "code",
      "metadata": {
        "id": "IlUY1-wfJLGS"
      },
      "source": [
        "comments = []\n",
        "labels = []\n",
        "\n",
        "for ix in range(comment.shape[0]):\n",
        "    if len(comment[ix])<=400:\n",
        "        comments.append(comment[ix])\n",
        "        labels.append(label[ix])"
      ],
      "execution_count": null,
      "outputs": []
    },
    {
      "cell_type": "code",
      "metadata": {
        "id": "r1z97jfkJNlm"
      },
      "source": [
        "labels = np.asarray(labels)"
      ],
      "execution_count": null,
      "outputs": []
    },
    {
      "cell_type": "code",
      "metadata": {
        "id": "0qdan73bJQqE",
        "colab": {
          "base_uri": "https://localhost:8080/"
        },
        "outputId": "fe82b707-0dc9-4132-c7ef-c6821c09d2d2"
      },
      "source": [
        "print(len(comments))"
      ],
      "execution_count": null,
      "outputs": [
        {
          "output_type": "stream",
          "text": [
            "115893\n"
          ],
          "name": "stdout"
        }
      ]
    },
    {
      "cell_type": "markdown",
      "metadata": {
        "id": "gqxlaGYtJXf2"
      },
      "source": [
        "Hence, after removing comments longer than 400 characters, we are still left with 115893 comments, which seems enough for training purposes."
      ]
    },
    {
      "cell_type": "markdown",
      "metadata": {
        "id": "FA2_-ogYJa2O"
      },
      "source": [
        "## Preprocessing"
      ]
    },
    {
      "cell_type": "markdown",
      "metadata": {
        "id": "eJmSyhe5JguP"
      },
      "source": [
        "The string library contains punctuation characters. This is imported and all numbers are appended to this string. Also, we can notice that our comment_text field contains strings such as won't, didn't, etc which contain apostrophe character('). To prevent these words from being converted to wont/didnt, the character ' represented as ' in escape sequence notation is replaced by empty character in the punctuation string."
      ]
    },
    {
      "cell_type": "markdown",
      "metadata": {
        "id": "Cf8gGkbdJlcg"
      },
      "source": [
        "maketrans() returns a translation table that maps each character in the punctuation_edit into the character at the same position in the outtab string i.e. it replaces every character in the removal list with a space, since outtab contains a string with spaces"
      ]
    },
    {
      "cell_type": "code",
      "metadata": {
        "id": "0vCRSwO2Jl7m",
        "colab": {
          "base_uri": "https://localhost:8080/"
        },
        "outputId": "203bb736-05b3-4345-cf66-b1152a7b9f10"
      },
      "source": [
        "import string\n",
        "print(string.punctuation)\n",
        "punctuation_edit = string.punctuation.replace('\\'','') +\"0123456789\"\n",
        "print (punctuation_edit)\n",
        "outtab = \"                                         \"\n",
        "trantab = str.maketrans(punctuation_edit, outtab)"
      ],
      "execution_count": null,
      "outputs": [
        {
          "output_type": "stream",
          "text": [
            "!\"#$%&'()*+,-./:;<=>?@[\\]^_`{|}~\n",
            "!\"#$%&()*+,-./:;<=>?@[\\]^_`{|}~0123456789\n"
          ],
          "name": "stdout"
        }
      ]
    },
    {
      "cell_type": "markdown",
      "metadata": {
        "id": "na79WhMeJr-i"
      },
      "source": [
        "## Updating the list of stop words"
      ]
    },
    {
      "cell_type": "markdown",
      "metadata": {
        "id": "F302VbEIJxID"
      },
      "source": [
        "Stop words are those words that are frequently used in both written and verbal communication and thereby do not have either a positive/negative impact on our statement.E.g. is, this, us,etc. Single letter words if existing or created due to any preprocessing step do not convey any useful meaning and hence can be directly removed. Hence letters from b to z, will be added to the list of stop words imported directly."
      ]
    },
    {
      "cell_type": "code",
      "metadata": {
        "id": "ovf0jQlyJxlR",
        "colab": {
          "base_uri": "https://localhost:8080/"
        },
        "outputId": "f734b739-2ad2-4fa5-c0fe-94e772088a20"
      },
      "source": [
        "import string\n",
        "import nltk\n",
        "nltk.download('stopwords')\n",
        "from nltk.corpus import stopwords\n",
        "\n",
        "stop_words = stopwords.words('english')\n",
        "stop_words.append('')\n",
        "\n",
        "for x in range(ord('b'), ord('z')+1):\n",
        "    stop_words.append(chr(x))"
      ],
      "execution_count": null,
      "outputs": [
        {
          "output_type": "stream",
          "text": [
            "[nltk_data] Downloading package stopwords to /root/nltk_data...\n",
            "[nltk_data]   Package stopwords is already up-to-date!\n"
          ],
          "name": "stdout"
        }
      ]
    },
    {
      "cell_type": "code",
      "metadata": {
        "id": "cTJJHFEeJ2Xs",
        "colab": {
          "base_uri": "https://localhost:8080/"
        },
        "outputId": "89b157a0-e4a4-4e4c-d082-c8b821023c0a"
      },
      "source": [
        "print (stop_words)"
      ],
      "execution_count": null,
      "outputs": [
        {
          "output_type": "stream",
          "text": [
            "['i', 'me', 'my', 'myself', 'we', 'our', 'ours', 'ourselves', 'you', \"you're\", \"you've\", \"you'll\", \"you'd\", 'your', 'yours', 'yourself', 'yourselves', 'he', 'him', 'his', 'himself', 'she', \"she's\", 'her', 'hers', 'herself', 'it', \"it's\", 'its', 'itself', 'they', 'them', 'their', 'theirs', 'themselves', 'what', 'which', 'who', 'whom', 'this', 'that', \"that'll\", 'these', 'those', 'am', 'is', 'are', 'was', 'were', 'be', 'been', 'being', 'have', 'has', 'had', 'having', 'do', 'does', 'did', 'doing', 'a', 'an', 'the', 'and', 'but', 'if', 'or', 'because', 'as', 'until', 'while', 'of', 'at', 'by', 'for', 'with', 'about', 'against', 'between', 'into', 'through', 'during', 'before', 'after', 'above', 'below', 'to', 'from', 'up', 'down', 'in', 'out', 'on', 'off', 'over', 'under', 'again', 'further', 'then', 'once', 'here', 'there', 'when', 'where', 'why', 'how', 'all', 'any', 'both', 'each', 'few', 'more', 'most', 'other', 'some', 'such', 'no', 'nor', 'not', 'only', 'own', 'same', 'so', 'than', 'too', 'very', 's', 't', 'can', 'will', 'just', 'don', \"don't\", 'should', \"should've\", 'now', 'd', 'll', 'm', 'o', 're', 've', 'y', 'ain', 'aren', \"aren't\", 'couldn', \"couldn't\", 'didn', \"didn't\", 'doesn', \"doesn't\", 'hadn', \"hadn't\", 'hasn', \"hasn't\", 'haven', \"haven't\", 'isn', \"isn't\", 'ma', 'mightn', \"mightn't\", 'mustn', \"mustn't\", 'needn', \"needn't\", 'shan', \"shan't\", 'shouldn', \"shouldn't\", 'wasn', \"wasn't\", 'weren', \"weren't\", 'won', \"won't\", 'wouldn', \"wouldn't\", '', 'b', 'c', 'd', 'e', 'f', 'g', 'h', 'i', 'j', 'k', 'l', 'm', 'n', 'o', 'p', 'q', 'r', 's', 't', 'u', 'v', 'w', 'x', 'y', 'z']\n"
          ],
          "name": "stdout"
        }
      ]
    },
    {
      "cell_type": "markdown",
      "metadata": {
        "id": "JpefqUoqJ9eS"
      },
      "source": [
        "## Stemming and Lemmatizing"
      ]
    },
    {
      "cell_type": "markdown",
      "metadata": {
        "id": "VF_g0pFsKI6k"
      },
      "source": [
        "Stemming is the process of converting inflected/derived words to their word stem or the root form. Basically, a large number of similar origin words are converted to the same word.E.g. words like \"stems\", \"stemmer\", \"stemming\", \"stemmed\" as based on \"stem\". This helps in achieving the training process with a better accuracy. Lemmatizing is the process of grouping together the inflected forms of a word so they can be analysed as a single item. This is quite similar to stemming in its working but differs since it depends on correctly identifying the intended part of speech and meaning of a word in a sentence, as well as within the larger context surrounding that sentence, such as neighboring sentences or even an entire document. The wordnet library in nltk will be used for this purpose. Stemmer and Lemmatizer are also imported from nltk."
      ]
    },
    {
      "cell_type": "code",
      "metadata": {
        "id": "Nsz6BHWoKJb2"
      },
      "source": [
        "import nltk\n",
        "from nltk.stem import PorterStemmer, WordNetLemmatizer"
      ],
      "execution_count": null,
      "outputs": []
    },
    {
      "cell_type": "code",
      "metadata": {
        "id": "scVQDNFlKL_5",
        "colab": {
          "base_uri": "https://localhost:8080/"
        },
        "outputId": "3631cb45-4605-46d8-c6e3-14df1a279d85"
      },
      "source": [
        "#create objects for stemmer and lemmatizer\n",
        "lemmatiser = WordNetLemmatizer()\n",
        "stemmer = PorterStemmer()\n",
        "#download words from wordnet library\n",
        "nltk.download('wordnet')"
      ],
      "execution_count": null,
      "outputs": [
        {
          "output_type": "stream",
          "text": [
            "[nltk_data] Downloading package wordnet to /root/nltk_data...\n",
            "[nltk_data]   Package wordnet is already up-to-date!\n"
          ],
          "name": "stdout"
        },
        {
          "output_type": "execute_result",
          "data": {
            "text/plain": [
              "True"
            ]
          },
          "metadata": {
            "tags": []
          },
          "execution_count": 95
        }
      ]
    },
    {
      "cell_type": "markdown",
      "metadata": {
        "id": "k7pjHkAyKbFg"
      },
      "source": [
        "We can now, loop once through all the comments applying :"
      ]
    },
    {
      "cell_type": "markdown",
      "metadata": {
        "id": "2EayHk7EKd6f"
      },
      "source": [
        "## punctuation removal"
      ]
    },
    {
      "cell_type": "markdown",
      "metadata": {
        "id": "uPQZgmO1KiZG"
      },
      "source": [
        "splitting the words by space\n",
        "\n",
        "applying stemmer and lemmatizer\n",
        "\n",
        "recombining the words again for further processing"
      ]
    },
    {
      "cell_type": "code",
      "metadata": {
        "id": "zJk26G2KKi78"
      },
      "source": [
        "for i in range(len(comments)):\n",
        "    comments[i] = comments[i].lower().translate(trantab)\n",
        "    l = []\n",
        "    for word in comments[i].split():\n",
        "        l.append(stemmer.stem(lemmatiser.lemmatize(word,pos=\"v\")))\n",
        "    comments[i] = \" \".join(l)"
      ],
      "execution_count": null,
      "outputs": []
    },
    {
      "cell_type": "markdown",
      "metadata": {
        "id": "pGqs21A5LCOp"
      },
      "source": [
        "## Applying HashVectorizer"
      ]
    },
    {
      "cell_type": "code",
      "metadata": {
        "id": "VUSpRd-LLDY-",
        "colab": {
          "base_uri": "https://localhost:8080/"
        },
        "outputId": "89bcf33d-9def-4ab4-ee52-442502926c48"
      },
      "source": [
        "from sklearn.feature_extraction.text import HashingVectorizer\n",
        "\n",
        "vectorizer = HashingVectorizer(alternate_sign=False)\n",
        "tf = vectorizer.fit_transform(comments)\n",
        "print(tf.shape)"
      ],
      "execution_count": null,
      "outputs": [
        {
          "output_type": "stream",
          "text": [
            "(115893, 1048576)\n"
          ],
          "name": "stdout"
        }
      ]
    },
    {
      "cell_type": "markdown",
      "metadata": {
        "id": "6Y64uA_iLLfd"
      },
      "source": [
        "## Splitting dataset into training and testing"
      ]
    },
    {
      "cell_type": "markdown",
      "metadata": {
        "id": "ZrogB8K2LRGF"
      },
      "source": [
        "Since the system was going out of memory using train_test_split, I had jumbled all the indexes in the beginning itself. The shuffle function defined here performs the task of assigning first 2/3rd values to train and remaining 1/3rd values to the test set."
      ]
    },
    {
      "cell_type": "code",
      "metadata": {
        "id": "wFnIZXlfLRir",
        "colab": {
          "base_uri": "https://localhost:8080/"
        },
        "outputId": "4fb51eaa-a587-411f-a262-9670c535109f"
      },
      "source": [
        "def shuffle(matrix, target, test_proportion):\n",
        "    ratio = int(matrix.shape[0]/test_proportion)\n",
        "    X_train = matrix[ratio:,:]\n",
        "    X_test =  matrix[:ratio,:]\n",
        "    Y_train = target[ratio:,:]\n",
        "    Y_test =  target[:ratio,:]\n",
        "    return X_train, X_test, Y_train, Y_test\n",
        "\n",
        "X_train, X_test, Y_train, Y_test = shuffle(tf, labels,3)\n",
        "\n",
        "print(X_test.shape)\n",
        "print(X_train.shape)"
      ],
      "execution_count": null,
      "outputs": [
        {
          "output_type": "stream",
          "text": [
            "(38631, 1048576)\n",
            "(77262, 1048576)\n"
          ],
          "name": "stdout"
        }
      ]
    },
    {
      "cell_type": "markdown",
      "metadata": {
        "id": "bBf3sOmELY7C"
      },
      "source": [
        "## Implementation :"
      ]
    },
    {
      "cell_type": "markdown",
      "metadata": {
        "id": "AKMHT6skLd3g"
      },
      "source": [
        "\n",
        "Let us define all the evaluation metrics"
      ]
    },
    {
      "cell_type": "code",
      "metadata": {
        "id": "rxOp2HumLeXw"
      },
      "source": [
        "from sklearn.metrics import hamming_loss\n",
        "from sklearn.metrics import accuracy_score\n",
        "from sklearn.metrics import log_loss\n",
        "from sklearn.metrics import classification_report\n",
        "\n",
        "def evaluate_score(Y_test,predict): \n",
        "    loss = hamming_loss(Y_test,predict)\n",
        "    print(\"Hamming_loss : {}\".format(loss*100))\n",
        "    accuracy = accuracy_score(Y_test,predict)\n",
        "    print(\"Accuracy : {}\".format(accuracy*100))\n",
        "    try : \n",
        "        loss = log_loss(Y_test,predict)\n",
        "    except :\n",
        "        loss = log_loss(Y_test,predict.toarray())\n",
        "    print(\"Log_loss : {}\".format(loss))"
      ],
      "execution_count": null,
      "outputs": []
    },
    {
      "cell_type": "markdown",
      "metadata": {
        "id": "wVney-xqLob2"
      },
      "source": [
        "Binary Relevance (BR) Method with MultinomialNB classifiers (from scratch)"
      ]
    },
    {
      "cell_type": "code",
      "metadata": {
        "id": "WXadxzImLo3J"
      },
      "source": [
        "from sklearn.naive_bayes import MultinomialNB"
      ],
      "execution_count": null,
      "outputs": []
    },
    {
      "cell_type": "code",
      "metadata": {
        "id": "Dz-2YOZYLrTv"
      },
      "source": [
        "# clf will be the list of the classifiers for all the 6 labels\n",
        "# each classifier is fit with the training data and corresponding classifier\n",
        "clf = []\n",
        "for ix in range(6):\n",
        "    clf.append(MultinomialNB())\n",
        "    clf[ix].fit(X_train,Y_train[:,ix])"
      ],
      "execution_count": null,
      "outputs": []
    },
    {
      "cell_type": "code",
      "metadata": {
        "id": "3Tyo1ZY9Lvd5",
        "colab": {
          "base_uri": "https://localhost:8080/"
        },
        "outputId": "20e29288-f24c-4025-8339-bca7b4b26ce5"
      },
      "source": [
        "# predict list contains the predictions, it is transposed later to get the proper shape\n",
        "predict = []\n",
        "for ix in range(6):\n",
        "    predict.append(clf[ix].predict(X_test))\n",
        "\n",
        "predict = np.asarray(np.transpose(predict))\n",
        "print(predict.shape)"
      ],
      "execution_count": null,
      "outputs": [
        {
          "output_type": "stream",
          "text": [
            "(38631, 6)\n"
          ],
          "name": "stdout"
        }
      ]
    },
    {
      "cell_type": "code",
      "metadata": {
        "id": "ot_iIuD-L2AB",
        "colab": {
          "base_uri": "https://localhost:8080/"
        },
        "outputId": "e927ff0e-5849-4f86-f85f-555b3add471c"
      },
      "source": [
        "# calculate results\n",
        "evaluate_score(Y_test,predict)"
      ],
      "execution_count": null,
      "outputs": [
        {
          "output_type": "stream",
          "text": [
            "Hamming_loss : 4.311735825287118\n",
            "Accuracy : 88.19859698169864\n",
            "Log_loss : 0.7879758653142859\n"
          ],
          "name": "stdout"
        }
      ]
    },
    {
      "cell_type": "code",
      "metadata": {
        "id": "QR0MNi_6L72Q",
        "colab": {
          "base_uri": "https://localhost:8080/",
          "height": 206
        },
        "outputId": "b1beaa6b-71af-4c4f-faa5-f948177372ac"
      },
      "source": [
        "classification_report(Y_test,predict)"
      ],
      "execution_count": null,
      "outputs": [
        {
          "output_type": "stream",
          "text": [
            "/usr/local/lib/python3.7/dist-packages/sklearn/metrics/_classification.py:1272: UndefinedMetricWarning: Precision and F-score are ill-defined and being set to 0.0 in labels with no predicted samples. Use `zero_division` parameter to control this behavior.\n",
            "  _warn_prf(average, modifier, msg_start, len(result))\n",
            "/usr/local/lib/python3.7/dist-packages/sklearn/metrics/_classification.py:1272: UndefinedMetricWarning: Precision and F-score are ill-defined and being set to 0.0 in samples with no predicted labels. Use `zero_division` parameter to control this behavior.\n",
            "  _warn_prf(average, modifier, msg_start, len(result))\n",
            "/usr/local/lib/python3.7/dist-packages/sklearn/metrics/_classification.py:1272: UndefinedMetricWarning: Recall and F-score are ill-defined and being set to 0.0 in samples with no true labels. Use `zero_division` parameter to control this behavior.\n",
            "  _warn_prf(average, modifier, msg_start, len(result))\n"
          ],
          "name": "stderr"
        },
        {
          "output_type": "execute_result",
          "data": {
            "application/vnd.google.colaboratory.intrinsic+json": {
              "type": "string"
            },
            "text/plain": [
              "'              precision    recall  f1-score   support\\n\\n           0       1.00      0.04      0.07      4345\\n           1       0.00      0.00      0.00       468\\n           2       1.00      0.01      0.02      2489\\n           3       0.00      0.00      0.00       139\\n           4       0.00      0.00      0.00      2327\\n           5       0.00      0.00      0.00       407\\n\\n   micro avg       1.00      0.02      0.03     10175\\n   macro avg       0.33      0.01      0.01     10175\\nweighted avg       0.67      0.02      0.03     10175\\n samples avg       0.00      0.00      0.00     10175\\n'"
            ]
          },
          "metadata": {
            "tags": []
          },
          "execution_count": 104
        }
      ]
    },
    {
      "cell_type": "markdown",
      "metadata": {
        "id": "Z3OJmB2OMVve"
      },
      "source": [
        "## BR Method with Multinomial classifier (from scikit-multilearn)"
      ]
    },
    {
      "cell_type": "code",
      "metadata": {
        "id": "Ou02UDqYMW0i",
        "colab": {
          "base_uri": "https://localhost:8080/"
        },
        "outputId": "94bfcbde-644e-4444-880e-fe274844f583"
      },
      "source": [
        "pip install scikit-multilearn"
      ],
      "execution_count": null,
      "outputs": [
        {
          "output_type": "stream",
          "text": [
            "Requirement already satisfied: scikit-multilearn in /usr/local/lib/python3.7/dist-packages (0.2.0)\n"
          ],
          "name": "stdout"
        }
      ]
    },
    {
      "cell_type": "code",
      "metadata": {
        "id": "up5mIlXxMGox",
        "colab": {
          "base_uri": "https://localhost:8080/"
        },
        "outputId": "448aea67-25a8-4e0d-f766-5fa23865529d"
      },
      "source": [
        "#create and fit classifier\n",
        "from skmultilearn.problem_transform import BinaryRelevance\n",
        "classifier = BinaryRelevance(classifier = MultinomialNB(), require_dense = [False, True])\n",
        "classifier.fit(X_train, Y_train)"
      ],
      "execution_count": null,
      "outputs": [
        {
          "output_type": "execute_result",
          "data": {
            "text/plain": [
              "BinaryRelevance(classifier=MultinomialNB(alpha=1.0, class_prior=None,\n",
              "                                         fit_prior=True),\n",
              "                require_dense=[False, True])"
            ]
          },
          "metadata": {
            "tags": []
          },
          "execution_count": 106
        }
      ]
    },
    {
      "cell_type": "code",
      "metadata": {
        "id": "kXoGDnJ5MqeG"
      },
      "source": [
        "#predictions\n",
        "predictions = classifier.predict(X_test)"
      ],
      "execution_count": null,
      "outputs": []
    },
    {
      "cell_type": "code",
      "metadata": {
        "id": "9jGWQ-01Mufn",
        "colab": {
          "base_uri": "https://localhost:8080/"
        },
        "outputId": "9e7fe3ed-bc41-480d-a6ec-9107a4aa264e"
      },
      "source": [
        "#calculate scores\n",
        "evaluate_score(Y_test,predictions)"
      ],
      "execution_count": null,
      "outputs": [
        {
          "output_type": "stream",
          "text": [
            "Hamming_loss : 4.311735825287118\n",
            "Accuracy : 88.19859698169864\n",
            "Log_loss : 0.7879758653142859\n"
          ],
          "name": "stdout"
        }
      ]
    },
    {
      "cell_type": "code",
      "metadata": {
        "id": "RaXDUa5sMyS5",
        "colab": {
          "base_uri": "https://localhost:8080/",
          "height": 206
        },
        "outputId": "ef8ba546-c652-4290-e3d0-d71a0aacfce4"
      },
      "source": [
        "classification_report(Y_test,predictions)"
      ],
      "execution_count": null,
      "outputs": [
        {
          "output_type": "stream",
          "text": [
            "/usr/local/lib/python3.7/dist-packages/sklearn/metrics/_classification.py:1272: UndefinedMetricWarning: Precision and F-score are ill-defined and being set to 0.0 in labels with no predicted samples. Use `zero_division` parameter to control this behavior.\n",
            "  _warn_prf(average, modifier, msg_start, len(result))\n",
            "/usr/local/lib/python3.7/dist-packages/sklearn/metrics/_classification.py:1272: UndefinedMetricWarning: Precision and F-score are ill-defined and being set to 0.0 in samples with no predicted labels. Use `zero_division` parameter to control this behavior.\n",
            "  _warn_prf(average, modifier, msg_start, len(result))\n",
            "/usr/local/lib/python3.7/dist-packages/sklearn/metrics/_classification.py:1272: UndefinedMetricWarning: Recall and F-score are ill-defined and being set to 0.0 in samples with no true labels. Use `zero_division` parameter to control this behavior.\n",
            "  _warn_prf(average, modifier, msg_start, len(result))\n"
          ],
          "name": "stderr"
        },
        {
          "output_type": "execute_result",
          "data": {
            "application/vnd.google.colaboratory.intrinsic+json": {
              "type": "string"
            },
            "text/plain": [
              "'              precision    recall  f1-score   support\\n\\n           0       1.00      0.04      0.07      4345\\n           1       0.00      0.00      0.00       468\\n           2       1.00      0.01      0.02      2489\\n           3       0.00      0.00      0.00       139\\n           4       0.00      0.00      0.00      2327\\n           5       0.00      0.00      0.00       407\\n\\n   micro avg       1.00      0.02      0.03     10175\\n   macro avg       0.33      0.01      0.01     10175\\nweighted avg       0.67      0.02      0.03     10175\\n samples avg       0.00      0.00      0.00     10175\\n'"
            ]
          },
          "metadata": {
            "tags": []
          },
          "execution_count": 110
        }
      ]
    },
    {
      "cell_type": "markdown",
      "metadata": {
        "id": "CtG2nAdNdqzb"
      },
      "source": [
        "## BR Method with SVM classifier (from scikit-multilearn)¶"
      ]
    },
    {
      "cell_type": "code",
      "metadata": {
        "colab": {
          "base_uri": "https://localhost:8080/"
        },
        "id": "_Ju241Kedrqx",
        "outputId": "540b1dab-0b6d-4e8c-81f4-310374d219b1"
      },
      "source": [
        "#create and fit classifier\n",
        "from skmultilearn.problem_transform import BinaryRelevance\n",
        "from sklearn.svm import SVC\n",
        "classifier = BinaryRelevance(classifier = SVC(), require_dense = [False, True])\n",
        "classifier.fit(X_train, Y_train)"
      ],
      "execution_count": null,
      "outputs": [
        {
          "output_type": "execute_result",
          "data": {
            "text/plain": [
              "BinaryRelevance(classifier=SVC(C=1.0, break_ties=False, cache_size=200,\n",
              "                               class_weight=None, coef0=0.0,\n",
              "                               decision_function_shape='ovr', degree=3,\n",
              "                               gamma='scale', kernel='rbf', max_iter=-1,\n",
              "                               probability=False, random_state=None,\n",
              "                               shrinking=True, tol=0.001, verbose=False),\n",
              "                require_dense=[False, True])"
            ]
          },
          "metadata": {
            "tags": []
          },
          "execution_count": 111
        }
      ]
    },
    {
      "cell_type": "code",
      "metadata": {
        "id": "TR9UYYIqdvNs"
      },
      "source": [
        "#predictions\n",
        "predictionss = classifier.predict(X_test)"
      ],
      "execution_count": null,
      "outputs": []
    },
    {
      "cell_type": "code",
      "metadata": {
        "colab": {
          "base_uri": "https://localhost:8080/"
        },
        "id": "9vOeCHWmrk6p",
        "outputId": "a554b524-03e3-4ca5-9462-26dae30d362d"
      },
      "source": [
        "#calculate scores\n",
        "evaluate_score(Y_test,predictionss)"
      ],
      "execution_count": null,
      "outputs": [
        {
          "output_type": "stream",
          "text": [
            "Hamming_loss : 2.164065129041443\n",
            "Accuracy : 90.83378633739743\n",
            "Log_loss : 1.841376393546132\n"
          ],
          "name": "stdout"
        }
      ]
    },
    {
      "cell_type": "code",
      "metadata": {
        "colab": {
          "base_uri": "https://localhost:8080/",
          "height": 173
        },
        "id": "05fC5S4evHcN",
        "outputId": "9cd28197-cf37-44ec-ae2e-88b40903de3d"
      },
      "source": [
        "classification_report(Y_test,predictionss)"
      ],
      "execution_count": null,
      "outputs": [
        {
          "output_type": "stream",
          "text": [
            "/usr/local/lib/python3.7/dist-packages/sklearn/metrics/_classification.py:1272: UndefinedMetricWarning: Precision and F-score are ill-defined and being set to 0.0 in samples with no predicted labels. Use `zero_division` parameter to control this behavior.\n",
            "  _warn_prf(average, modifier, msg_start, len(result))\n",
            "/usr/local/lib/python3.7/dist-packages/sklearn/metrics/_classification.py:1272: UndefinedMetricWarning: Recall and F-score are ill-defined and being set to 0.0 in samples with no true labels. Use `zero_division` parameter to control this behavior.\n",
            "  _warn_prf(average, modifier, msg_start, len(result))\n"
          ],
          "name": "stderr"
        },
        {
          "output_type": "execute_result",
          "data": {
            "application/vnd.google.colaboratory.intrinsic+json": {
              "type": "string"
            },
            "text/plain": [
              "'              precision    recall  f1-score   support\\n\\n           0       0.95      0.62      0.75      4345\\n           1       0.53      0.09      0.15       468\\n           2       0.92      0.68      0.78      2489\\n           3       0.78      0.05      0.09       139\\n           4       0.83      0.56      0.67      2327\\n           5       0.86      0.12      0.22       407\\n\\n   micro avg       0.90      0.57      0.70     10175\\n   macro avg       0.81      0.35      0.44     10175\\nweighted avg       0.89      0.57      0.68     10175\\n samples avg       0.07      0.06      0.06     10175\\n'"
            ]
          },
          "metadata": {
            "tags": []
          },
          "execution_count": 114
        }
      ]
    },
    {
      "cell_type": "markdown",
      "metadata": {
        "id": "o_DLPDEhvSr1"
      },
      "source": [
        "## Making all the changes as we made on our training dataset"
      ]
    },
    {
      "cell_type": "code",
      "metadata": {
        "colab": {
          "base_uri": "https://localhost:8080/",
          "height": 417
        },
        "id": "OcAhEvfsvTnB",
        "outputId": "28f7c2aa-76c3-4d33-e956-a64d15f618e2"
      },
      "source": [
        "#loading the dataset\n",
        "data_test=pd.read_csv('/content/drive/MyDrive/gautam bhushan/test.csv')\n",
        "data_test"
      ],
      "execution_count": null,
      "outputs": [
        {
          "output_type": "execute_result",
          "data": {
            "text/html": [
              "<div>\n",
              "<style scoped>\n",
              "    .dataframe tbody tr th:only-of-type {\n",
              "        vertical-align: middle;\n",
              "    }\n",
              "\n",
              "    .dataframe tbody tr th {\n",
              "        vertical-align: top;\n",
              "    }\n",
              "\n",
              "    .dataframe thead th {\n",
              "        text-align: right;\n",
              "    }\n",
              "</style>\n",
              "<table border=\"1\" class=\"dataframe\">\n",
              "  <thead>\n",
              "    <tr style=\"text-align: right;\">\n",
              "      <th></th>\n",
              "      <th>id</th>\n",
              "      <th>comment_text</th>\n",
              "    </tr>\n",
              "  </thead>\n",
              "  <tbody>\n",
              "    <tr>\n",
              "      <th>0</th>\n",
              "      <td>00001cee341fdb12</td>\n",
              "      <td>Yo bitch Ja Rule is more succesful then you'll...</td>\n",
              "    </tr>\n",
              "    <tr>\n",
              "      <th>1</th>\n",
              "      <td>0000247867823ef7</td>\n",
              "      <td>== From RfC == \\n\\n The title is fine as it is...</td>\n",
              "    </tr>\n",
              "    <tr>\n",
              "      <th>2</th>\n",
              "      <td>00013b17ad220c46</td>\n",
              "      <td>\" \\n\\n == Sources == \\n\\n * Zawe Ashton on Lap...</td>\n",
              "    </tr>\n",
              "    <tr>\n",
              "      <th>3</th>\n",
              "      <td>00017563c3f7919a</td>\n",
              "      <td>:If you have a look back at the source, the in...</td>\n",
              "    </tr>\n",
              "    <tr>\n",
              "      <th>4</th>\n",
              "      <td>00017695ad8997eb</td>\n",
              "      <td>I don't anonymously edit articles at all.</td>\n",
              "    </tr>\n",
              "    <tr>\n",
              "      <th>...</th>\n",
              "      <td>...</td>\n",
              "      <td>...</td>\n",
              "    </tr>\n",
              "    <tr>\n",
              "      <th>153159</th>\n",
              "      <td>fffcd0960ee309b5</td>\n",
              "      <td>. \\n i totally agree, this stuff is nothing bu...</td>\n",
              "    </tr>\n",
              "    <tr>\n",
              "      <th>153160</th>\n",
              "      <td>fffd7a9a6eb32c16</td>\n",
              "      <td>== Throw from out field to home plate. == \\n\\n...</td>\n",
              "    </tr>\n",
              "    <tr>\n",
              "      <th>153161</th>\n",
              "      <td>fffda9e8d6fafa9e</td>\n",
              "      <td>\" \\n\\n == Okinotorishima categories == \\n\\n I ...</td>\n",
              "    </tr>\n",
              "    <tr>\n",
              "      <th>153162</th>\n",
              "      <td>fffe8f1340a79fc2</td>\n",
              "      <td>\" \\n\\n == \"\"One of the founding nations of the...</td>\n",
              "    </tr>\n",
              "    <tr>\n",
              "      <th>153163</th>\n",
              "      <td>ffffce3fb183ee80</td>\n",
              "      <td>\" \\n :::Stop already. Your bullshit is not wel...</td>\n",
              "    </tr>\n",
              "  </tbody>\n",
              "</table>\n",
              "<p>153164 rows × 2 columns</p>\n",
              "</div>"
            ],
            "text/plain": [
              "                      id                                       comment_text\n",
              "0       00001cee341fdb12  Yo bitch Ja Rule is more succesful then you'll...\n",
              "1       0000247867823ef7  == From RfC == \\n\\n The title is fine as it is...\n",
              "2       00013b17ad220c46  \" \\n\\n == Sources == \\n\\n * Zawe Ashton on Lap...\n",
              "3       00017563c3f7919a  :If you have a look back at the source, the in...\n",
              "4       00017695ad8997eb          I don't anonymously edit articles at all.\n",
              "...                  ...                                                ...\n",
              "153159  fffcd0960ee309b5  . \\n i totally agree, this stuff is nothing bu...\n",
              "153160  fffd7a9a6eb32c16  == Throw from out field to home plate. == \\n\\n...\n",
              "153161  fffda9e8d6fafa9e  \" \\n\\n == Okinotorishima categories == \\n\\n I ...\n",
              "153162  fffe8f1340a79fc2  \" \\n\\n == \"\"One of the founding nations of the...\n",
              "153163  ffffce3fb183ee80  \" \\n :::Stop already. Your bullshit is not wel...\n",
              "\n",
              "[153164 rows x 2 columns]"
            ]
          },
          "metadata": {
            "tags": []
          },
          "execution_count": 116
        }
      ]
    },
    {
      "cell_type": "code",
      "metadata": {
        "colab": {
          "base_uri": "https://localhost:8080/"
        },
        "id": "8KuLdGCUvkW-",
        "outputId": "50a202be-14d3-4176-a6f6-b5fe5692f6c4"
      },
      "source": [
        "comment = data_test['comment_text']\n",
        "print(comment.head())\n",
        "comment = comment.to_numpy()"
      ],
      "execution_count": null,
      "outputs": [
        {
          "output_type": "stream",
          "text": [
            "0    Yo bitch Ja Rule is more succesful then you'll...\n",
            "1    == From RfC == \\n\\n The title is fine as it is...\n",
            "2    \" \\n\\n == Sources == \\n\\n * Zawe Ashton on Lap...\n",
            "3    :If you have a look back at the source, the in...\n",
            "4            I don't anonymously edit articles at all.\n",
            "Name: comment_text, dtype: object\n"
          ],
          "name": "stdout"
        }
      ]
    },
    {
      "cell_type": "code",
      "metadata": {
        "id": "RSGx8RVBvsY2"
      },
      "source": [
        "comments = []\n",
        "\n",
        "for ix in range(comment.shape[0]):\n",
        "    if len(comment[ix])<=400:\n",
        "        comments.append(comment[ix])"
      ],
      "execution_count": null,
      "outputs": []
    },
    {
      "cell_type": "code",
      "metadata": {
        "id": "_jwtihv1vvCU"
      },
      "source": [
        "for i in range(len(comments)):\n",
        "    comments[i] = comments[i].lower().translate(trantab)\n",
        "    l = []\n",
        "    for word in comments[i].split():\n",
        "        l.append(stemmer.stem(lemmatiser.lemmatize(word,pos=\"v\")))\n",
        "    comments[i] = \" \".join(l)"
      ],
      "execution_count": null,
      "outputs": []
    },
    {
      "cell_type": "code",
      "metadata": {
        "colab": {
          "base_uri": "https://localhost:8080/"
        },
        "id": "-t5d7bjHvz_h",
        "outputId": "de342067-a951-4d02-d5e3-a66ec9e7ecfe"
      },
      "source": [
        "from sklearn.feature_extraction.text import HashingVectorizer\n",
        "\n",
        "vectorizer = HashingVectorizer(alternate_sign=False)\n",
        "tf = vectorizer.fit_transform(comments)\n",
        "print(tf.shape)"
      ],
      "execution_count": null,
      "outputs": [
        {
          "output_type": "stream",
          "text": [
            "(115769, 1048576)\n"
          ],
          "name": "stdout"
        }
      ]
    },
    {
      "cell_type": "code",
      "metadata": {
        "colab": {
          "base_uri": "https://localhost:8080/",
          "height": 417
        },
        "id": "2SCUx1vuwGF1",
        "outputId": "f70ed401-a9de-497f-ab96-c0ec54a818ba"
      },
      "source": [
        "pd.DataFrame(data=tf)"
      ],
      "execution_count": null,
      "outputs": [
        {
          "output_type": "execute_result",
          "data": {
            "text/html": [
              "<div>\n",
              "<style scoped>\n",
              "    .dataframe tbody tr th:only-of-type {\n",
              "        vertical-align: middle;\n",
              "    }\n",
              "\n",
              "    .dataframe tbody tr th {\n",
              "        vertical-align: top;\n",
              "    }\n",
              "\n",
              "    .dataframe thead th {\n",
              "        text-align: right;\n",
              "    }\n",
              "</style>\n",
              "<table border=\"1\" class=\"dataframe\">\n",
              "  <thead>\n",
              "    <tr style=\"text-align: right;\">\n",
              "      <th></th>\n",
              "      <th>0</th>\n",
              "    </tr>\n",
              "  </thead>\n",
              "  <tbody>\n",
              "    <tr>\n",
              "      <th>0</th>\n",
              "      <td>(0, 10919)\\t0.08804509063256238\\n  (0, 26634...</td>\n",
              "    </tr>\n",
              "    <tr>\n",
              "      <th>1</th>\n",
              "      <td>(0, 174974)\\t0.5773502691896258\\n  (0, 23947...</td>\n",
              "    </tr>\n",
              "    <tr>\n",
              "      <th>2</th>\n",
              "      <td>(0, 173139)\\t0.4472135954999579\\n  (0, 27522...</td>\n",
              "    </tr>\n",
              "    <tr>\n",
              "      <th>3</th>\n",
              "      <td>(0, 103968)\\t0.12309149097933272\\n  (0, 1232...</td>\n",
              "    </tr>\n",
              "    <tr>\n",
              "      <th>4</th>\n",
              "      <td>(0, 156674)\\t0.4082482904638631\\n  (0, 19883...</td>\n",
              "    </tr>\n",
              "    <tr>\n",
              "      <th>...</th>\n",
              "      <td>...</td>\n",
              "    </tr>\n",
              "    <tr>\n",
              "      <th>115764</th>\n",
              "      <td>(0, 31813)\\t0.13736056394868904\\n  (0, 48144...</td>\n",
              "    </tr>\n",
              "    <tr>\n",
              "      <th>115765</th>\n",
              "      <td>(0, 3856)\\t0.31622776601683794\\n  (0, 60869)...</td>\n",
              "    </tr>\n",
              "    <tr>\n",
              "      <th>115766</th>\n",
              "      <td>(0, 7733)\\t0.31622776601683794\\n  (0, 171262...</td>\n",
              "    </tr>\n",
              "    <tr>\n",
              "      <th>115767</th>\n",
              "      <td>(0, 26634)\\t0.1386750490563073\\n  (0, 45419)...</td>\n",
              "    </tr>\n",
              "    <tr>\n",
              "      <th>115768</th>\n",
              "      <td>(0, 1907)\\t0.19245008972987526\\n  (0, 46353)...</td>\n",
              "    </tr>\n",
              "  </tbody>\n",
              "</table>\n",
              "<p>115769 rows × 1 columns</p>\n",
              "</div>"
            ],
            "text/plain": [
              "                                                        0\n",
              "0         (0, 10919)\\t0.08804509063256238\\n  (0, 26634...\n",
              "1         (0, 174974)\\t0.5773502691896258\\n  (0, 23947...\n",
              "2         (0, 173139)\\t0.4472135954999579\\n  (0, 27522...\n",
              "3         (0, 103968)\\t0.12309149097933272\\n  (0, 1232...\n",
              "4         (0, 156674)\\t0.4082482904638631\\n  (0, 19883...\n",
              "...                                                   ...\n",
              "115764    (0, 31813)\\t0.13736056394868904\\n  (0, 48144...\n",
              "115765    (0, 3856)\\t0.31622776601683794\\n  (0, 60869)...\n",
              "115766    (0, 7733)\\t0.31622776601683794\\n  (0, 171262...\n",
              "115767    (0, 26634)\\t0.1386750490563073\\n  (0, 45419)...\n",
              "115768    (0, 1907)\\t0.19245008972987526\\n  (0, 46353)...\n",
              "\n",
              "[115769 rows x 1 columns]"
            ]
          },
          "metadata": {
            "tags": []
          },
          "execution_count": 122
        }
      ]
    },
    {
      "cell_type": "markdown",
      "metadata": {
        "id": "ymPoVK-TwPYG"
      },
      "source": [
        "## On the basis of log loss we save Binary Relevance (BR) Method with Multinomial classifier as our final model"
      ]
    },
    {
      "cell_type": "code",
      "metadata": {
        "colab": {
          "base_uri": "https://localhost:8080/"
        },
        "id": "9ylM_tGpwQY5",
        "outputId": "47fb568a-1b1b-4d15-8314-d4d5b47e392b"
      },
      "source": [
        "#saving our model\n",
        "\n",
        "import joblib\n",
        "joblib.dump(classifier,'Malignant_Comments_Classifier.pkl')"
      ],
      "execution_count": null,
      "outputs": [
        {
          "output_type": "execute_result",
          "data": {
            "text/plain": [
              "['Malignant_Comments_Classifier.pkl']"
            ]
          },
          "metadata": {
            "tags": []
          },
          "execution_count": 123
        }
      ]
    },
    {
      "cell_type": "code",
      "metadata": {
        "id": "CTMqi57Uwvs3"
      },
      "source": [
        "model=joblib.load('Malignant_Comments_Classifier.pkl')"
      ],
      "execution_count": null,
      "outputs": []
    },
    {
      "cell_type": "code",
      "metadata": {
        "colab": {
          "base_uri": "https://localhost:8080/"
        },
        "id": "sACnNR9-w3H5",
        "outputId": "d04f3d34-2cf7-4ccb-f2e5-20a08b1ae34b"
      },
      "source": [
        "#Testing our model\n",
        "import sys\n",
        "nums= model.predict(tf)\n",
        "np.set_printoptions(threshold=sys.maxsize)\n",
        "print(nums)"
      ],
      "execution_count": null,
      "outputs": [
        {
          "output_type": "stream",
          "text": [
            "  (0, 0)\t1\n",
            "  (38, 0)\t1\n",
            "  (40, 0)\t1\n",
            "  (45, 0)\t1\n",
            "  (48, 0)\t1\n",
            "  (56, 0)\t1\n",
            "  (60, 0)\t1\n",
            "  (64, 0)\t1\n",
            "  (66, 0)\t1\n",
            "  (72, 0)\t1\n",
            "  (77, 0)\t1\n",
            "  (85, 0)\t1\n",
            "  (89, 0)\t1\n",
            "  (94, 0)\t1\n",
            "  (95, 0)\t1\n",
            "  (97, 0)\t1\n",
            "  (127, 0)\t1\n",
            "  (131, 0)\t1\n",
            "  (132, 0)\t1\n",
            "  (135, 0)\t1\n",
            "  (143, 0)\t1\n",
            "  (147, 0)\t1\n",
            "  (148, 0)\t1\n",
            "  (154, 0)\t1\n",
            "  (163, 0)\t1\n",
            "  :\t:\n",
            "  (109913, 5)\t1\n",
            "  (110107, 5)\t1\n",
            "  (110181, 5)\t1\n",
            "  (110339, 5)\t1\n",
            "  (110430, 5)\t1\n",
            "  (110665, 5)\t1\n",
            "  (110864, 5)\t1\n",
            "  (110905, 5)\t1\n",
            "  (111040, 5)\t1\n",
            "  (111635, 5)\t1\n",
            "  (111967, 5)\t1\n",
            "  (112441, 5)\t1\n",
            "  (112955, 5)\t1\n",
            "  (113090, 5)\t1\n",
            "  (113445, 5)\t1\n",
            "  (113940, 5)\t1\n",
            "  (113959, 5)\t1\n",
            "  (114052, 5)\t1\n",
            "  (114291, 5)\t1\n",
            "  (114328, 5)\t1\n",
            "  (114542, 5)\t1\n",
            "  (114975, 5)\t1\n",
            "  (115188, 5)\t1\n",
            "  (115684, 5)\t1\n",
            "  (115707, 5)\t1\n"
          ],
          "name": "stdout"
        }
      ]
    },
    {
      "cell_type": "code",
      "metadata": {
        "id": "KEX1jnmiw7IP"
      },
      "source": [
        "data1 = pd.DataFrame(nums) \n",
        "    \n",
        "# saving the dataframe to csv\n",
        "data1.to_csv('predictionss.csv')"
      ],
      "execution_count": null,
      "outputs": []
    },
    {
      "cell_type": "code",
      "metadata": {
        "id": "M-48XAud2aYx"
      },
      "source": [
        ""
      ],
      "execution_count": null,
      "outputs": []
    },
    {
      "cell_type": "code",
      "metadata": {
        "id": "RUxas8CXwyfT"
      },
      "source": [
        ""
      ],
      "execution_count": null,
      "outputs": []
    },
    {
      "cell_type": "code",
      "metadata": {
        "id": "91ooPX3qwJSa"
      },
      "source": [
        ""
      ],
      "execution_count": null,
      "outputs": []
    },
    {
      "cell_type": "code",
      "metadata": {
        "id": "4X8uPUKNvp49"
      },
      "source": [
        ""
      ],
      "execution_count": null,
      "outputs": []
    },
    {
      "cell_type": "code",
      "metadata": {
        "id": "3W1Tc8ievZSU"
      },
      "source": [
        ""
      ],
      "execution_count": null,
      "outputs": []
    },
    {
      "cell_type": "code",
      "metadata": {
        "id": "maeKrpDmvKgH"
      },
      "source": [
        ""
      ],
      "execution_count": null,
      "outputs": []
    },
    {
      "cell_type": "code",
      "metadata": {
        "id": "z1YiXEm9dnTm"
      },
      "source": [
        ""
      ],
      "execution_count": null,
      "outputs": []
    }
  ]
}